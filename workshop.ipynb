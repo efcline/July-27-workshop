{
  "metadata": {
    "language_info": {
      "codemirror_mode": {
        "name": "python",
        "version": 3
      },
      "file_extension": ".py",
      "mimetype": "text/x-python",
      "name": "python",
      "nbconvert_exporter": "python",
      "pygments_lexer": "ipython3",
      "version": "3.8"
    },
    "kernelspec": {
      "name": "python",
      "display_name": "Python (Pyodide)",
      "language": "python"
    }
  },
  "nbformat_minor": 4,
  "nbformat": 4,
  "cells": [
    {
      "cell_type": "markdown",
      "source": "# Data Skills Workshop \n## Some Basics\n\nThe following examples were covered, briefly, in our Data Skills Workshop. Try them yourself, and/or check out the commented out lines (start with #) as you go.\n\nThis section covers:\n- data types\n- two built-in functions\n- assigning variables\n- operators (+, -, etc)",
      "metadata": {}
    },
    {
      "cell_type": "code",
      "source": "#Input goes here in the cell, output is displayed below the cell.\nprint(\"Hello, World\")",
      "metadata": {
        "trusted": true
      },
      "execution_count": 1,
      "outputs": [
        {
          "name": "stdout",
          "text": "Hello, World\n",
          "output_type": "stream"
        }
      ]
    },
    {
      "cell_type": "code",
      "source": "#Data types: strings are sequences of characters, denoted by quotation marks.\ntype(\"This is a string\")",
      "metadata": {
        "trusted": true
      },
      "execution_count": 2,
      "outputs": [
        {
          "execution_count": 2,
          "output_type": "execute_result",
          "data": {
            "text/plain": "str"
          },
          "metadata": {}
        }
      ]
    },
    {
      "cell_type": "code",
      "source": "#Data types: an integer is a whole number, positive or negative.\ntype(465)",
      "metadata": {
        "trusted": true
      },
      "execution_count": 3,
      "outputs": [
        {
          "execution_count": 3,
          "output_type": "execute_result",
          "data": {
            "text/plain": "int"
          },
          "metadata": {}
        }
      ]
    },
    {
      "cell_type": "code",
      "source": "#Data Types: floats have decimals\ntype(4.99)",
      "metadata": {
        "trusted": true
      },
      "execution_count": 4,
      "outputs": [
        {
          "execution_count": 4,
          "output_type": "execute_result",
          "data": {
            "text/plain": "float"
          },
          "metadata": {}
        }
      ]
    },
    {
      "cell_type": "markdown",
      "source": "- As seen above, the function `type()` tells you what type of data you have. Both `type()` and `print()` are built-in functions.",
      "metadata": {}
    },
    {
      "cell_type": "code",
      "source": "print(\"The print() function displays to the screen.\")",
      "metadata": {
        "trusted": true
      },
      "execution_count": 5,
      "outputs": [
        {
          "name": "stdout",
          "text": "The print() function displays to the screen.\n",
          "output_type": "stream"
        }
      ]
    },
    {
      "cell_type": "code",
      "source": "print(\"You\")\nprint(\"can\")\nprint(\"print\")\nprint(\"in\")\nprint(\"blocks\")",
      "metadata": {
        "trusted": true
      },
      "execution_count": 6,
      "outputs": [
        {
          "name": "stdout",
          "text": "You\ncan\nprint\nin\nblocks\n",
          "output_type": "stream"
        }
      ]
    },
    {
      "cell_type": "code",
      "source": "print(\"Or you can print multiple things to one line.\", \"Use a comma to separate.\")",
      "metadata": {
        "trusted": true
      },
      "execution_count": 7,
      "outputs": [
        {
          "name": "stdout",
          "text": "Or you can print multiple things to one line. Use a comma to separate.\n",
          "output_type": "stream"
        }
      ]
    },
    {
      "cell_type": "code",
      "source": "#Variables store data. Name the variable first, then assign a value.\nx = 5\nprint(x+1)",
      "metadata": {
        "trusted": true
      },
      "execution_count": 8,
      "outputs": [
        {
          "name": "stdout",
          "text": "6\n",
          "output_type": "stream"
        }
      ]
    },
    {
      "cell_type": "code",
      "source": "#Different types of data can be assigned to variables.\nfavorite_color = \"blue\"\ntype(favorite_color)",
      "metadata": {
        "trusted": true
      },
      "execution_count": 9,
      "outputs": [
        {
          "execution_count": 9,
          "output_type": "execute_result",
          "data": {
            "text/plain": "str"
          },
          "metadata": {}
        }
      ]
    },
    {
      "cell_type": "code",
      "source": "office_number = 117\ntype(office_number)",
      "metadata": {
        "trusted": true
      },
      "execution_count": 10,
      "outputs": [
        {
          "execution_count": 10,
          "output_type": "execute_result",
          "data": {
            "text/plain": "int"
          },
          "metadata": {}
        }
      ]
    },
    {
      "cell_type": "code",
      "source": "print(\"My favorite color is\", favorite_color)\nprint(\"My office is number\", office_number)",
      "metadata": {
        "trusted": true
      },
      "execution_count": 11,
      "outputs": [
        {
          "name": "stdout",
          "text": "My favorite color is blue\nMy office is number 117\n",
          "output_type": "stream"
        }
      ]
    },
    {
      "cell_type": "code",
      "source": "#Use Python to calculate anything\nquick_sum = 3+2.5\nquick_difference = 39-9\nquick_product = 2*7\nquick_quotient = 12/3\nprint(quick_sum, \n      quick_difference, \n      quick_product, \n      quick_quotient)",
      "metadata": {
        "trusted": true
      },
      "execution_count": 12,
      "outputs": [
        {
          "name": "stdout",
          "text": "5.5 30 14 4.0\n",
          "output_type": "stream"
        }
      ]
    },
    {
      "cell_type": "markdown",
      "source": "## A note about variables\nAt this point, you may have noticed that there are specific rules about what can and can't be a *variable name* in Python. For example, you cannot assign a variable with the same name as a built-in function. Thus, we can't create a variable with the name \"print,\" since we also have the function `print()`. \n\nIn general, keep your variable names:\n- lowercase (yes, Python is case sensitive. That is, `office_NUMBER` is not the same thing as `office_number`)\n- divided_by_underscores (if there are multiple words)\n\nLast, you cannot start a variable name with a number, though you can use numbers within a variable name. So, `2010_phoenix` won't do, but `phoenix_2010` will.",
      "metadata": {}
    },
    {
      "cell_type": "code",
      "source": "# When we combine variables, operators, and functions, we can start to do interesting things.\nwallet = 10.75\nprint(\"I have $\", wallet, \"in my pocket\")\n# Any variable can be reassigned. On the previous line, \"wallet\" pointed to the value \"10.75.\" Let's change that.\nwallet = 2.67\n# When we print the variable again, the new value appears.\nprint(\"Oops! I bought snacks and now I only have $\", wallet, \"in my pocket.\")\n# You can change a variable by reassigning it, or through calculation.\nwallet = 20 + 2.67\nprint(\"My friend gave me a gift of $ 20 and now I have $\", wallet, \"in my pocket.\")",
      "metadata": {
        "trusted": true
      },
      "execution_count": 13,
      "outputs": [
        {
          "name": "stdout",
          "text": "I have $ 10.75 in my pocket\nOops! I bought snacks and now I only have $ 2.67 in my pocket.\nMy friend gave me a gift of $ 20 and now I have $ 22.67 in my pocket.\n",
          "output_type": "stream"
        }
      ]
    },
    {
      "cell_type": "markdown",
      "source": "## Writing Programs\n\nNow that we've looked at a few basics, we can start to write programs. Big or small, a *program* is a *set of instructions*. Let's say we are interested in writing a set of instructions that shows the current temperature in Fahrenheit, then converts it to Celsius. What needs to happen in this program? \n\nStepping back and taking a minute to think about what needs to happen is actually [part of the coding process](https://en.wikipedia.org/wiki/Method_stub). Can you create an outline of your hypothetical program? If your program needs to do several things, what order should they occur in? Breaking things down into smaller parts isn't just a way to tackle problems - it also helps you write code. \n\nLet's take a look at our temperature program. Two main things jump out: we need the temperature in Fahrenheit, then we need to convert it to Celsius. Our outline would look like this:\n- Show temperature in degrees F\n- Convert temperature into degrees C\n \nWe can expound on those to get some logical steps:\n1. Create a variable with today's temperature (F)\n2. Print value to screen\n3. Convert to C\n4. Print new value to screen\n\nOnce we know the outline and think about the details, we actually have almost everything we need. All that's left is to write a few lines of code:",
      "metadata": {}
    },
    {
      "cell_type": "code",
      "source": "# Show the current temperature\ncurrent_temp = 90\n# Print to screen\nprint(\"It's\", current_temp, \"degrees outside.\")\n# Convert to Celsius\ncelsius_temp = format(((current_temp - 32)/1.8), '.1f')\n# Print new temperature\nprint(celsius_temp, \"degrees is the temperature in Celsius.\")",
      "metadata": {
        "trusted": true
      },
      "execution_count": 14,
      "outputs": [
        {
          "name": "stdout",
          "text": "It's 90 degrees outside.\n32.2 degrees is the temperature in Celsius.\n",
          "output_type": "stream"
        }
      ]
    },
    {
      "cell_type": "markdown",
      "source": "## If, Else, and Conditions\n\nThus far, we've looked at examples that execute in perfect sequential order, that is, starting with the first line and ending with the last. But what if we need to skip lines? Let's say we would like a program that reminds us to bundle up (or not) depending on the weather. \n- If it's cold outside, then wear a coat when you go out.\n- If it's not cold outside, then don't wear a coat when you go out.\n\nThis program has two possibilities for output. In the first, we go outside wearing a coat. In the second, we go outside not wearing a coat.\n\n*If statements* and *else clauses* help us enable this decision making. What’s really happening? An evaluation of the condition that follows the if statement. If the statement is true, the computer will execute the instructions following `if`. If the condition is false, the computer will skip to the next block `else`\n\nIf statements can evaluate all kinds of conditions:",
      "metadata": {}
    },
    {
      "cell_type": "code",
      "source": "# Set the temperature\ncurrent_temp = 66\n# Decide what to do based on weather\nif current_temp <= 50:\n    print(\"It's cold outside! Remember to wear a coat.\")\nelse:\n    print(\"Let's go outside!\")",
      "metadata": {
        "trusted": true
      },
      "execution_count": 15,
      "outputs": [
        {
          "name": "stdout",
          "text": "Let's go outside!\n",
          "output_type": "stream"
        }
      ]
    },
    {
      "cell_type": "code",
      "source": "# Define year\nyear = 2010\n# Determine whether 21st century\nif year >= 2000:\n    print(\"It's the 21st century\")\nelse:\n    print(\"It's not the 21st century.\")",
      "metadata": {
        "trusted": true
      },
      "execution_count": 16,
      "outputs": [
        {
          "name": "stdout",
          "text": "It's the 21st century\n",
          "output_type": "stream"
        }
      ]
    },
    {
      "cell_type": "code",
      "source": "x = 8\n# Figure out whether the remainder of x/5 is zero\nif x%5==0:\n    print(x, \"is a multiple of 5.\")\nelse:\n    print(\"Dividing\", x, \"by 5 will leave a remainder.\")",
      "metadata": {
        "trusted": true
      },
      "execution_count": 17,
      "outputs": [
        {
          "name": "stdout",
          "text": "Dividing 8 by 5 will leave a remainder.\n",
          "output_type": "stream"
        }
      ]
    },
    {
      "cell_type": "code",
      "source": "# Set who is in the crowd\nnames = \"Ellen\", \"Paul\", \"Ali\", \"Maria\"\n# Check and see if Paul is there\nif \"Paul\" in names:\n    print(\"I see my friend Paul in the crowd.\")\nelse:\n    print(\"Paul must not be here yet.\")",
      "metadata": {
        "trusted": true
      },
      "execution_count": 18,
      "outputs": [
        {
          "name": "stdout",
          "text": "I see my friend Paul in the crowd.\n",
          "output_type": "stream"
        }
      ]
    },
    {
      "cell_type": "markdown",
      "source": "## Files and Input\n\nWe've seen a lot of variables with pre-determined input (the temperature, people in a crowd, etc). You can prompt a user for input (use `input()`), or you can read input from a file.\n\nLet's look at files and the functions `open()`, `close()`, and `read()`.",
      "metadata": {}
    },
    {
      "cell_type": "code",
      "source": "# Open a file with open(). \n# This statement opens a file in read mode and assigns it to a variable named \"file\":\nfile = open(\"pizza data.txt\", \"r\")\n# To read the content of a file, use read()\n# This statement reads the data contained in our file and puts it in a variable named \"orders\":\norders = file.read()\n# Don't forget to close it when done!\nfile.close()",
      "metadata": {
        "trusted": true
      },
      "execution_count": 19,
      "outputs": []
    },
    {
      "cell_type": "markdown",
      "source": "As seen above, files can be opened in different modes. The above example is in *read* (`r`) mode. Others include *write* (`w`) and *append* (`a`). Not stating the mode opens a file in default mode, which is *read* (`r`). \n\nOnce we open a file and assign it to a variable, we use the variable attached to a function, i.e. `file.read()`. Notice that we need to name the variable that the function is being performed on: *variable_name [dot] some_function()*\n\nYou might be saying, wait, we didn't do anything with that file except open and close it! Let's try looking for a particular phrase in the file:",
      "metadata": {}
    },
    {
      "cell_type": "code",
      "source": "# Open pizza data.txt in read mode\nfile = open(\"pizza data.txt\", \"r\")\n# Put the contents of the file in a new variable, named \"orders\"\norders = file.read()\n# Look for pineapple in any of these orders\nif \"pineapple\" in orders:\n    print(\"There's fruit here.\")\nelse:\n    print(\"Ready to prepare!\")\n# Close the file\nfile.close()",
      "metadata": {
        "trusted": true
      },
      "execution_count": 20,
      "outputs": [
        {
          "name": "stdout",
          "text": "There's fruit here.\n",
          "output_type": "stream"
        }
      ]
    },
    {
      "cell_type": "code",
      "source": "# Open pizza data.txt in read mode\nfile = open(\"pizza data.txt\", \"r\")\n# Put the contents of the file in a new variable, named \"orders\"\norders = file.readlines()\n# Look for pineapple in EACH specific order\nfor item in orders:\n    if \"pineapple\" in item:\n        print(\"There's fruit here.\")\n    else:\n        print(\"Ready to prepare!\")\n# Close the file\nfile.close() ",
      "metadata": {
        "trusted": true
      },
      "execution_count": 21,
      "outputs": [
        {
          "name": "stdout",
          "text": "There's fruit here.\nReady to prepare!\nReady to prepare!\nReady to prepare!\n",
          "output_type": "stream"
        }
      ]
    },
    {
      "cell_type": "markdown",
      "source": "## Control Flow / Flow Control\n\n`if` and `else` and `for` are types of [control flow](https://en.wikipedia.org/wiki/Control_flow), also called *flow control*. Broadly speaking, this allows us to:\n- skip lines\n- iterate\n- loop\n- stop and start\n- break things up\n\nThere are numerous [ways to do this in Python](https://docs.python.org/3/tutorial/controlflow.html).\n\nMechanisms to control flow exist in many different programming languages. Why is this an important concept when it comes to data?",
      "metadata": {}
    },
    {
      "cell_type": "markdown",
      "source": "## Wrapping up\n\nThis concludes our brief workshop, but I encourage you to continue learning and to **think outside the box** with regard to the things we've learned today!\n\nWe've seen a few of the below-mentioned concepts already, but, by the way:\n\n- variables can be assigned more than one value, using *[lists](https://docs.python.org/3/library/stdtypes.html#typesseq)*",
      "metadata": {}
    },
    {
      "cell_type": "code",
      "source": "favorite_colors = \"blue\", \"purple\", \"black\", \"gray\"\nprint(favorite_colors)",
      "metadata": {
        "trusted": true
      },
      "execution_count": 22,
      "outputs": [
        {
          "name": "stdout",
          "text": "('blue', 'purple', 'black', 'gray')\n",
          "output_type": "stream"
        }
      ]
    },
    {
      "cell_type": "markdown",
      "source": "- Too many decimals in your output? Use `format()` to fix it.",
      "metadata": {}
    },
    {
      "cell_type": "code",
      "source": "x = 57/2.3\nprint(x)\nprint(format(x, '.1f'))",
      "metadata": {
        "trusted": true
      },
      "execution_count": 23,
      "outputs": [
        {
          "name": "stdout",
          "text": "24.782608695652176\n24.8\n",
          "output_type": "stream"
        }
      ]
    },
    {
      "cell_type": "markdown",
      "source": "- Want more options than the two afforded by `if` and `else`? Try `elif` for a third option. Or fourth. Or fifth. ",
      "metadata": {}
    },
    {
      "cell_type": "code",
      "source": "x = 4\nif x == 1:\n    print(\"x is 1\")\nelif x == 2:\n    print(\"x is 2\")\nelif x == 3:\n    print(\"x is 3\")\nelse:\n    print(\"x is not 1, 2, or 3\")",
      "metadata": {
        "trusted": true
      },
      "execution_count": 24,
      "outputs": [
        {
          "name": "stdout",
          "text": "x is not 1, 2, or 3\n",
          "output_type": "stream"
        }
      ]
    }
  ]
}
